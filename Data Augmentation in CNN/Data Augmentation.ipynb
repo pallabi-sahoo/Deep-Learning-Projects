{
 "cells": [
  {
   "cell_type": "code",
   "execution_count": 1,
   "metadata": {},
   "outputs": [],
   "source": [
    "## Data Augmentation using keras and python\n",
    "from keras.preprocessing.image import ImageDataGenerator,array_to_img, img_to_array,load_img\n",
    "datagen=ImageDataGenerator(\n",
    "        rotation_range=40,\n",
    "        width_shift_range=0.2,\n",
    "        height_shift_range=0.2,\n",
    "        shear_range=0.2,\n",
    "        zoom_range=0.2,\n",
    "        horizontal_flip=True,\n",
    "        fill_mode='nearest')\n",
    "\n",
    "img=load_img(\"img2.jpg\")\n",
    "x=img_to_array(img)\n",
    "x=x.reshape((1,)+ x.shape)\n",
    "\n",
    "i=0\n",
    "for batch in datagen.flow(x,batch_size=1,\n",
    "                         save_to_dir='Preview',save_prefix='cat',save_format='jpeg'):\n",
    "    i+=1\n",
    "    if i>20:\n",
    "        break"
   ]
  },
  {
   "cell_type": "code",
   "execution_count": null,
   "metadata": {},
   "outputs": [],
   "source": []
  }
 ],
 "metadata": {
  "kernelspec": {
   "display_name": "Python 3",
   "language": "python",
   "name": "python3"
  },
  "language_info": {
   "codemirror_mode": {
    "name": "ipython",
    "version": 3
   },
   "file_extension": ".py",
   "mimetype": "text/x-python",
   "name": "python",
   "nbconvert_exporter": "python",
   "pygments_lexer": "ipython3",
   "version": "3.8.5"
  }
 },
 "nbformat": 4,
 "nbformat_minor": 4
}
