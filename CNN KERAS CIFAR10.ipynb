{
 "cells": [
  {
   "cell_type": "code",
   "execution_count": 1,
   "metadata": {},
   "outputs": [],
   "source": [
    "import math\n",
    "from keras.models import Sequential\n",
    "from keras.layers import Conv2D,MaxPooling2D,Dense,Flatten\n",
    "import numpy as np\n",
    "from keras.datasets import cifar10 #50k training images, 10k Testing images and 10 classes\n",
    "import matplotlib.pyplot as plt"
   ]
  },
  {
   "cell_type": "code",
   "execution_count": 2,
   "metadata": {},
   "outputs": [],
   "source": [
    "train,test = cifar10.load_data()"
   ]
  },
  {
   "cell_type": "code",
   "execution_count": 3,
   "metadata": {},
   "outputs": [],
   "source": [
    "X_train_orig,Y_train_orig = train"
   ]
  },
  {
   "cell_type": "code",
   "execution_count": 4,
   "metadata": {},
   "outputs": [],
   "source": [
    "X_test_orig,Y_test_orig = test"
   ]
  },
  {
   "cell_type": "code",
   "execution_count": 5,
   "metadata": {},
   "outputs": [
    {
     "data": {
      "text/plain": [
       "array([[6],\n",
       "       [9],\n",
       "       [9],\n",
       "       ...,\n",
       "       [9],\n",
       "       [1],\n",
       "       [1]], dtype=uint8)"
      ]
     },
     "execution_count": 5,
     "metadata": {},
     "output_type": "execute_result"
    }
   ],
   "source": [
    "Y_train_orig"
   ]
  },
  {
   "cell_type": "code",
   "execution_count": 6,
   "metadata": {},
   "outputs": [],
   "source": [
    "def convert_to_one_hot(Y,num_classes):\n",
    "    OHY = []\n",
    "    for i in Y:\n",
    "        OH = [0]*num_classes\n",
    "        OH[i[0]] = 1\n",
    "        OHY.append(OH)\n",
    "    return np.array(OHY)"
   ]
  },
  {
   "cell_type": "code",
   "execution_count": 7,
   "metadata": {},
   "outputs": [
    {
     "name": "stdout",
     "output_type": "stream",
     "text": [
      "number of training examples = 50000\n",
      "number of test examples = 10000\n",
      "X_train shape: (50000, 32, 32, 3)\n",
      "Y_train shape: (50000, 10)\n",
      "X_test shape: (10000, 32, 32, 3)\n",
      "Y_test shape: (10000, 10)\n"
     ]
    }
   ],
   "source": [
    "X_train = X_train_orig/255.\n",
    "X_test = X_test_orig/255.\n",
    "Y_train = convert_to_one_hot(Y_train_orig, 10)\n",
    "Y_test = convert_to_one_hot(Y_test_orig, 10)\n",
    "\n",
    "print (\"number of training examples = \" + str(X_train.shape[0]))\n",
    "print (\"number of test examples = \" + str(X_test.shape[0]))\n",
    "print (\"X_train shape: \" + str(X_train.shape))\n",
    "print (\"Y_train shape: \" + str(Y_train.shape))\n",
    "print (\"X_test shape: \" + str(X_test.shape))\n",
    "print (\"Y_test shape: \" + str(Y_test.shape))\n",
    "conv_layers = {}"
   ]
  },
  {
   "cell_type": "code",
   "execution_count": 8,
   "metadata": {
    "scrolled": true
   },
   "outputs": [
    {
     "data": {
      "text/plain": [
       "<matplotlib.image.AxesImage at 0x289276cd370>"
      ]
     },
     "execution_count": 8,
     "metadata": {},
     "output_type": "execute_result"
    },
    {
     "data": {
      "image/png": "[encoded data removed]",
      "text/plain": [
       "<Figure size 432x288 with 1 Axes>"
      ]
     },
     "metadata": {
      "needs_background": "light"
     },
     "output_type": "display_data"
    }
   ],
   "source": [
    "plt.imshow(X_train[6]) #CLASS 6 ie FROG"
   ]
  },
  {
   "cell_type": "code",
   "execution_count": 9,
   "metadata": {},
   "outputs": [],
   "source": [
    "model = Sequential()\n",
    "model.add(Conv2D(filters=32,kernel_size=(3,3),padding='SAME',activation='relu',strides=(1,1)))\n",
    "model.add(MaxPooling2D(padding='SAME',pool_size=(2,2),strides=(2,2)))\n",
    "model.add(Conv2D(filters=64,kernel_size=(3,3),padding='SAME',activation='relu',strides=(1,1)))\n",
    "model.add(MaxPooling2D(padding='SAME',pool_size=(2,2),strides=(2,2)))\n",
    "model.add(Flatten())\n",
    "model.add(Dense(32,activation='relu'))\n",
    "model.add(Dense(10,activation='softmax'))"
   ]
  },
  {
   "cell_type": "code",
   "execution_count": 10,
   "metadata": {},
   "outputs": [],
   "source": [
    "model.compile(loss='categorical_crossentropy',optimizer='adam',metrics=['accuracy'])"
   ]
  },
  {
   "cell_type": "code",
   "execution_count": null,
   "metadata": {
    "scrolled": true
   },
   "outputs": [
    {
     "name": "stdout",
     "output_type": "stream",
     "text": [
      "Epoch 1/50\n",
      "40/40 [==============================] - 36s 910ms/step - loss: 2.0500 - accuracy: 0.2779 - val_loss: 1.7750 - val_accuracy: 0.3692\n",
      "Epoch 2/50\n",
      "40/40 [==============================] - 32s 805ms/step - loss: 1.6664 - accuracy: 0.4092 - val_loss: 1.5954 - val_accuracy: 0.4357\n",
      "Epoch 3/50\n",
      "40/40 [==============================] - 33s 814ms/step - loss: 1.5259 - accuracy: 0.4624 - val_loss: 1.4888 - val_accuracy: 0.4750\n",
      "Epoch 4/50\n",
      "40/40 [==============================] - 33s 834ms/step - loss: 1.4330 - accuracy: 0.4965 - val_loss: 1.4051 - val_accuracy: 0.5114\n",
      "Epoch 5/50\n",
      "40/40 [==============================] - 33s 818ms/step - loss: 1.3698 - accuracy: 0.5176 - val_loss: 1.3555 - val_accuracy: 0.5273\n",
      "Epoch 6/50\n",
      "40/40 [==============================] - 36s 908ms/step - loss: 1.3021 - accuracy: 0.5459 - val_loss: 1.3059 - val_accuracy: 0.5500\n",
      "Epoch 7/50\n",
      "40/40 [==============================] - 35s 868ms/step - loss: 1.2627 - accuracy: 0.5587 - val_loss: 1.2994 - val_accuracy: 0.5519\n",
      "Epoch 8/50\n",
      "40/40 [==============================] - 35s 878ms/step - loss: 1.2099 - accuracy: 0.5790 - val_loss: 1.2238 - val_accuracy: 0.5781\n",
      "Epoch 9/50\n",
      "40/40 [==============================] - 33s 814ms/step - loss: 1.1760 - accuracy: 0.5906 - val_loss: 1.1937 - val_accuracy: 0.5873\n",
      "Epoch 10/50\n",
      "40/40 [==============================] - 33s 835ms/step - loss: 1.1528 - accuracy: 0.5989 - val_loss: 1.1844 - val_accuracy: 0.5930\n",
      "Epoch 11/50\n",
      "40/40 [==============================] - 34s 839ms/step - loss: 1.1293 - accuracy: 0.6092 - val_loss: 1.1631 - val_accuracy: 0.6041\n",
      "Epoch 12/50\n",
      "40/40 [==============================] - 34s 845ms/step - loss: 1.0971 - accuracy: 0.6215 - val_loss: 1.1415 - val_accuracy: 0.6106\n",
      "Epoch 13/50\n",
      "40/40 [==============================] - 34s 862ms/step - loss: 1.0863 - accuracy: 0.6256 - val_loss: 1.1205 - val_accuracy: 0.6170\n",
      "Epoch 14/50\n",
      "40/40 [==============================] - 33s 837ms/step - loss: 1.0514 - accuracy: 0.6360 - val_loss: 1.0996 - val_accuracy: 0.6257\n",
      "Epoch 15/50\n",
      "40/40 [==============================] - 34s 844ms/step - loss: 1.0340 - accuracy: 0.6429 - val_loss: 1.0784 - val_accuracy: 0.6340\n",
      "Epoch 16/50\n",
      "40/40 [==============================] - 35s 879ms/step - loss: 1.0263 - accuracy: 0.6432 - val_loss: 1.0840 - val_accuracy: 0.6291\n",
      "Epoch 17/50\n",
      "39/40 [============================>.] - ETA: 0s - loss: 0.9975 - accuracy: 0.6573"
     ]
    }
   ],
   "source": [
    "model.fit(X_train,Y_train,validation_split=0.2,batch_size=1000,epochs=50)"
   ]
  },
  {
   "cell_type": "code",
   "execution_count": null,
   "metadata": {},
   "outputs": [],
   "source": []
  }
 ],
 "metadata": {
  "kernelspec": {
   "display_name": "Python 3",
   "language": "python",
   "name": "python3"
  },
  "language_info": {
   "codemirror_mode": {
    "name": "ipython",
    "version": 3
   },
   "file_extension": ".py",
   "mimetype": "text/x-python",
   "name": "python",
   "nbconvert_exporter": "python",
   "pygments_lexer": "ipython3",
   "version": "3.8.5"
  }
 },
 "nbformat": 4,
 "nbformat_minor": 2
}
